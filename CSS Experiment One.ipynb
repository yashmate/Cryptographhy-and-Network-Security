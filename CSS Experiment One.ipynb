{
 "cells": [
  {
   "cell_type": "code",
   "execution_count": 1,
   "metadata": {},
   "outputs": [],
   "source": [
    "alphabet_list=[chr(i) for i in range(ord('a'),ord('z')+1)]\n",
    "number_list=[str(i) for i in range(1,27)]\n",
    "alphabet_to_number=dict(zip(alphabet_list,number_list))\n",
    "number_to_alphabet=dict(zip(number_list,alphabet_list))"
   ]
  },
  {
   "cell_type": "code",
   "execution_count": 7,
   "metadata": {},
   "outputs": [],
   "source": [
    "def caesar_cipher(string,key):\n",
    "    new_string=[]\n",
    "    for char in string:\n",
    "        char_number=alphabet_to_number[char]\n",
    "        new_index=(int(char_number)+key)%26\n",
    "        new_string.append(number_to_alphabet[str(new_index)])\n",
    "    new_string=''.join(new_string)\n",
    "    return new_string"
   ]
  },
  {
   "cell_type": "code",
   "execution_count": 9,
   "metadata": {},
   "outputs": [],
   "source": [
    "def decrypt_caesar_cipher(string,key):\n",
    "    new_string=[]\n",
    "    for char in string:\n",
    "        char_number=alphabet_to_number[char]\n",
    "        new_index=(int(char_number)-key)%26\n",
    "        new_string.append(number_to_alphabet[str(new_index)])\n",
    "    new_string=''.join(new_string)\n",
    "    return new_string"
   ]
  },
  {
   "cell_type": "code",
   "execution_count": 92,
   "metadata": {},
   "outputs": [],
   "source": [
    "def transposition_cipher(string,column_order):\n",
    "    columns=len(column_order)\n",
    "    from math import ceil\n",
    "    rows=ceil(len(string)/columns)\n",
    "    total_chars=[\"*\" for i in range(rows*columns)]\n",
    "    #print(total_chars)\n",
    "    for i in range(len(string)):\n",
    "        total_chars[i]=string[i]\n",
    "    #print(total_chars)\n",
    "    matrix=[]\n",
    "    for i in range(0,len(total_chars),columns):\n",
    "        matrix.append(list(total_chars[i:i+columns]))\n",
    "    #for row in matrix:\n",
    "        #print(row)\n",
    "    #print(\"___________\")\n",
    "    t_matrix = list(map(list, zip(*matrix)))\n",
    "    #for row in t_matrix:\n",
    "        #print(row)\n",
    "    new_matrix=[]\n",
    "    for i in range(len(t_matrix)):\n",
    "        new_matrix.append(t_matrix[column_order[i]-1])\n",
    "    #print(\"_________________\")\n",
    "    #for row in new_matrix:\n",
    "       # print(row)\n",
    "    #print(\"_________________\")\n",
    "    t_matrix = list(map(list, zip(*new_matrix)))\n",
    "    #for row in t_matrix:\n",
    "        #print(row)\n",
    "    new_string=[]\n",
    "    for i in range(len(t_matrix)):\n",
    "        for j in range(len(t_matrix[i])):\n",
    "            new_string.append(t_matrix[i][j])\n",
    "    new_string=''.join(new_string)\n",
    "    print(\"The final encyrpted text is \",new_string)\n",
    "    return new_string"
   ]
  },
  {
   "cell_type": "code",
   "execution_count": 93,
   "metadata": {},
   "outputs": [],
   "source": [
    "def decrypt_transposition_cipher(string,column_order):\n",
    "    columns=len(column_order)\n",
    "    from math import ceil\n",
    "    rows=ceil(len(string)/columns)\n",
    "    total_chars=[\"*\" for i in range(rows*columns)]\n",
    "    #print(total_chars)\n",
    "    #for i in range(len(string)):\n",
    "        #total_chars[i]=string[i]\n",
    "    #print(total_chars)\n",
    "    matrix=[]\n",
    "    for i in range(0,len(total_chars),columns):\n",
    "        matrix.append(list(total_chars[i:i+columns]))\n",
    "    #for row in matrix:\n",
    "        #print(row)\n",
    "    #print(\"___________\")\n",
    "    t_matrix = list(map(list, zip(*matrix)))\n",
    "    #for row in t_matrix:\n",
    "        #print(row)\n",
    "    new_matrix=[]\n",
    "    #for i in range(len(t_matrix)):\n",
    "        #new_matrix.append(t_matrix[column_order.index(i+1)])\n",
    "    #print(\"______________________\")\n",
    "    #for row in new_matrix:\n",
    "        #print(row)\n",
    "   # print(\"______________________\")\n",
    "    t_matrix = list(map(list, zip(*new_matrix)))\n",
    "    #for row in t_matrix:\n",
    "        #print(row)\n",
    "    new_string=[]\n",
    "    for i in range(len(t_matrix)):\n",
    "        for j in range(len(t_matrix[i])):\n",
    "            new_string.append(t_matrix[i][j])\n",
    "    new_string=''.join(new_string)\n",
    "    new_string=new_string.rstrip('*')\n",
    "    print(\"The final decyrpted text is \",new_string)"
   ]
  },
  {
   "cell_type": "code",
   "execution_count": null,
   "metadata": {},
   "outputs": [],
   "source": [
    "options=['Caesar Cipher','Transposition Cipher']\n",
    "print(\"Enter your Choice\")\n",
    "for i,option in enumerate(options):\n",
    "    print(\"{} -- > {}\".format(i+1,option))\n",
    "choice=int(input())\n",
    "if choice == 1:\n",
    "    string = input(\"Enter the string to be encrypted\")\n",
    "    key=int(input(\"Enter the key\"))\n",
    "    print(\"The encrpyted text is {}\".format(caesar_cipher(string,key)))\n",
    "    print(\"The decrypted text is {}\".format(decrypt_caesar_cipher(caesar_cipher(string,key),key)))\n",
    "elif choice == 2:\n",
    "    string = input(\"Enter the string to be encrypted\")\n",
    "    key=list(map(int,input('Enter the order of columns').split()))\n",
    "    x=transposition_cipher(string,key)\n",
    "    decrypt_transposition_cipher(x,key)\n",
    "else:\n",
    "    print(\"Invalid Choice\")"
   ]
  },
  {
   "cell_type": "code",
   "execution_count": null,
   "metadata": {},
   "outputs": [],
   "source": []
  }
 ],
 "metadata": {
  "kernelspec": {
   "display_name": "Python 3",
   "language": "python",
   "name": "python3"
  },
  "language_info": {
   "codemirror_mode": {
    "name": "ipython",
    "version": 3
   },
   "file_extension": ".py",
   "mimetype": "text/x-python",
   "name": "python",
   "nbconvert_exporter": "python",
   "pygments_lexer": "ipython3",
   "version": "3.6.8"
  }
 },
 "nbformat": 4,
 "nbformat_minor": 2
}
